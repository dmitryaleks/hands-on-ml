{
 "cells": [
  {
   "cell_type": "markdown",
   "metadata": {},
   "source": [
    "# Linear Regression model"
   ]
  },
  {
   "cell_type": "code",
   "execution_count": 5,
   "metadata": {},
   "outputs": [],
   "source": [
    "import numpy as np\n",
    "import pandas as pd\n",
    "import matplotlib.pyplot as plt\n",
    "\n",
    "data_path = 'datasets/growth/data.csv'\n",
    "\n",
    "data = pd.read_csv(data_path)"
   ]
  },
  {
   "cell_type": "code",
   "execution_count": 6,
   "metadata": {},
   "outputs": [
    {
     "name": "stdout",
     "output_type": "stream",
     "text": [
      "              x           y\n",
      "0      0.370370    6.562245\n",
      "1      1.481481    8.618909\n",
      "2      2.962963   11.153123\n",
      "3      2.222222   10.277819\n",
      "4      3.333333   12.074243\n",
      "5      3.703704   12.930698\n",
      "6      2.962963   11.439622\n",
      "7      4.444444   13.914884\n",
      "8      4.814815   14.490519\n",
      "9      3.703704   12.786811\n",
      "10     5.185185   15.488058\n",
      "11     5.555556   16.061966\n",
      "12     5.185185   15.321312\n",
      "13     7.037037   18.689967\n",
      "14     7.037037   18.823678\n",
      "15     6.296296   17.413302\n",
      "16     6.296296   17.320295\n",
      "17     8.518519   21.616918\n",
      "18     8.148148   20.524585\n",
      "19     7.777778   19.997120\n",
      "20     9.629630   23.601799\n",
      "21     8.888889   22.161491\n",
      "22    10.000000   24.262780\n",
      "23    10.740741   25.402612\n",
      "24     9.259259   22.558211\n",
      "25    10.740741   25.270942\n",
      "26    10.000000   24.158678\n",
      "27    10.370370   24.606149\n",
      "28    11.111111   26.278621\n",
      "29    11.851852   27.328458\n",
      "..          ...         ...\n",
      "470  175.925926  322.591173\n",
      "471  176.666667  324.260961\n",
      "472  175.555556  321.878128\n",
      "473  175.925926  322.730860\n",
      "474  177.777778  325.860961\n",
      "475  177.777778  325.818973\n",
      "476  178.518519  327.260245\n",
      "477  178.888889  328.004263\n",
      "478  178.518519  327.584539\n",
      "479  179.259259  328.604558\n",
      "480  178.148148  326.907082\n",
      "481  180.000000  330.237618\n",
      "482  179.629630  329.288901\n",
      "483  179.259259  328.741420\n",
      "484  179.629630  329.257592\n",
      "485  181.851852  333.225286\n",
      "486  180.740741  331.621288\n",
      "487  181.111111  332.240094\n",
      "488  181.111111  332.070705\n",
      "489  182.962963  335.204651\n",
      "490  183.703704  336.854565\n",
      "491  183.703704  336.763327\n",
      "492  182.962963  335.333695\n",
      "493  184.074074  337.477446\n",
      "494  183.703704  336.588290\n",
      "495  185.555556  339.807999\n",
      "496  185.185185  339.335449\n",
      "497  186.296296  341.558297\n",
      "498  185.555556  340.114455\n",
      "499  186.666667  342.267697\n",
      "\n",
      "[500 rows x 2 columns]\n"
     ]
    }
   ],
   "source": [
    "print(data)"
   ]
  },
  {
   "cell_type": "code",
   "execution_count": 14,
   "metadata": {},
   "outputs": [
    {
     "data": {
      "text/html": [
       "<div>\n",
       "<style scoped>\n",
       "    .dataframe tbody tr th:only-of-type {\n",
       "        vertical-align: middle;\n",
       "    }\n",
       "\n",
       "    .dataframe tbody tr th {\n",
       "        vertical-align: top;\n",
       "    }\n",
       "\n",
       "    .dataframe thead th {\n",
       "        text-align: right;\n",
       "    }\n",
       "</style>\n",
       "<table border=\"1\" class=\"dataframe\">\n",
       "  <thead>\n",
       "    <tr style=\"text-align: right;\">\n",
       "      <th></th>\n",
       "      <th>x</th>\n",
       "      <th>y</th>\n",
       "    </tr>\n",
       "  </thead>\n",
       "  <tbody>\n",
       "    <tr>\n",
       "      <th>count</th>\n",
       "      <td>500.000000</td>\n",
       "      <td>500.000000</td>\n",
       "    </tr>\n",
       "    <tr>\n",
       "      <th>mean</th>\n",
       "      <td>93.717778</td>\n",
       "      <td>174.736519</td>\n",
       "    </tr>\n",
       "    <tr>\n",
       "      <th>std</th>\n",
       "      <td>53.527855</td>\n",
       "      <td>96.344740</td>\n",
       "    </tr>\n",
       "    <tr>\n",
       "      <th>min</th>\n",
       "      <td>0.370370</td>\n",
       "      <td>6.562245</td>\n",
       "    </tr>\n",
       "    <tr>\n",
       "      <th>25%</th>\n",
       "      <td>47.777778</td>\n",
       "      <td>91.888080</td>\n",
       "    </tr>\n",
       "    <tr>\n",
       "      <th>50%</th>\n",
       "      <td>94.444444</td>\n",
       "      <td>175.871186</td>\n",
       "    </tr>\n",
       "    <tr>\n",
       "      <th>75%</th>\n",
       "      <td>139.444444</td>\n",
       "      <td>257.010400</td>\n",
       "    </tr>\n",
       "    <tr>\n",
       "      <th>max</th>\n",
       "      <td>186.666667</td>\n",
       "      <td>342.267697</td>\n",
       "    </tr>\n",
       "  </tbody>\n",
       "</table>\n",
       "</div>"
      ],
      "text/plain": [
       "                x           y\n",
       "count  500.000000  500.000000\n",
       "mean    93.717778  174.736519\n",
       "std     53.527855   96.344740\n",
       "min      0.370370    6.562245\n",
       "25%     47.777778   91.888080\n",
       "50%     94.444444  175.871186\n",
       "75%    139.444444  257.010400\n",
       "max    186.666667  342.267697"
      ]
     },
     "execution_count": 14,
     "metadata": {},
     "output_type": "execute_result"
    }
   ],
   "source": [
    "data.describe()"
   ]
  },
  {
   "cell_type": "code",
   "execution_count": 15,
   "metadata": {},
   "outputs": [
    {
     "data": {
      "image/png": "[encoded data removed]",
      "text/plain": [
       "<Figure size 432x288 with 1 Axes>"
      ]
     },
     "metadata": {
      "needs_background": "light"
     },
     "output_type": "display_data"
    }
   ],
   "source": [
    "%matplotlib inline\n",
    "plt.scatter(data['x'], data['y'])\n",
    "plt.show()"
   ]
  },
  {
   "cell_type": "code",
   "execution_count": 16,
   "metadata": {},
   "outputs": [
    {
     "data": {
      "text/plain": [
       "array([[<matplotlib.axes._subplots.AxesSubplot object at 0x7ff578629668>,\n",
       "        <matplotlib.axes._subplots.AxesSubplot object at 0x7ff578764518>]],\n",
       "      dtype=object)"
      ]
     },
     "execution_count": 16,
     "metadata": {},
     "output_type": "execute_result"
    },
    {
     "data": {
      "image/png": "[encoded data removed]",
      "text/plain": [
       "<Figure size 432x288 with 2 Axes>"
      ]
     },
     "metadata": {
      "needs_background": "light"
     },
     "output_type": "display_data"
    }
   ],
   "source": [
    "data.hist(bins=50)"
   ]
  },
  {
   "cell_type": "code",
   "execution_count": 17,
   "metadata": {},
   "outputs": [
    {
     "data": {
      "text/html": [
       "<div>\n",
       "<style scoped>\n",
       "    .dataframe tbody tr th:only-of-type {\n",
       "        vertical-align: middle;\n",
       "    }\n",
       "\n",
       "    .dataframe tbody tr th {\n",
       "        vertical-align: top;\n",
       "    }\n",
       "\n",
       "    .dataframe thead th {\n",
       "        text-align: right;\n",
       "    }\n",
       "</style>\n",
       "<table border=\"1\" class=\"dataframe\">\n",
       "  <thead>\n",
       "    <tr style=\"text-align: right;\">\n",
       "      <th></th>\n",
       "      <th>x</th>\n",
       "      <th>y</th>\n",
       "    </tr>\n",
       "  </thead>\n",
       "  <tbody>\n",
       "    <tr>\n",
       "      <th>x</th>\n",
       "      <td>1.000000</td>\n",
       "      <td>0.999999</td>\n",
       "    </tr>\n",
       "    <tr>\n",
       "      <th>y</th>\n",
       "      <td>0.999999</td>\n",
       "      <td>1.000000</td>\n",
       "    </tr>\n",
       "  </tbody>\n",
       "</table>\n",
       "</div>"
      ],
      "text/plain": [
       "          x         y\n",
       "x  1.000000  0.999999\n",
       "y  0.999999  1.000000"
      ]
     },
     "execution_count": 17,
     "metadata": {},
     "output_type": "execute_result"
    }
   ],
   "source": [
    "data.corr()"
   ]
  },
  {
   "cell_type": "code",
   "execution_count": 22,
   "metadata": {},
   "outputs": [
    {
     "data": {
      "text/plain": [
       "array([[<matplotlib.axes._subplots.AxesSubplot object at 0x7ff5784b5f28>,\n",
       "        <matplotlib.axes._subplots.AxesSubplot object at 0x7ff5782e0160>],\n",
       "       [<matplotlib.axes._subplots.AxesSubplot object at 0x7ff5782866a0>,\n",
       "        <matplotlib.axes._subplots.AxesSubplot object at 0x7ff5782adc18>]],\n",
       "      dtype=object)"
      ]
     },
     "execution_count": 22,
     "metadata": {},
     "output_type": "execute_result"
    },
    {
     "data": {
      "image/png": "[encoded data removed]",
      "text/plain": [
       "<Figure size 720x576 with 4 Axes>"
      ]
     },
     "metadata": {
      "needs_background": "light"
     },
     "output_type": "display_data"
    }
   ],
   "source": [
    "from pandas.plotting import scatter_matrix\n",
    "\n",
    "scatter_matrix(data, figsize=(10,8))"
   ]
  },
  {
   "cell_type": "code",
   "execution_count": 41,
   "metadata": {},
   "outputs": [],
   "source": [
    "from sklearn.model_selection import train_test_split\n",
    "\n",
    "X_train, X_test, y_train, y_test = train_test_split(data['x'], data['y'], test_size=0.25, random_state=42)"
   ]
  },
  {
   "cell_type": "code",
   "execution_count": 49,
   "metadata": {},
   "outputs": [],
   "source": [
    "X_train = X_train.values.reshape(-1,1)\n",
    "y_train = y_train.values.reshape(-1,1)"
   ]
  },
  {
   "cell_type": "code",
   "execution_count": 52,
   "metadata": {},
   "outputs": [],
   "source": [
    "X_test = X_test.values.reshape(-1,1)\n",
    "y_test = y_test.values.reshape(-1,1)"
   ]
  },
  {
   "cell_type": "code",
   "execution_count": 50,
   "metadata": {},
   "outputs": [
    {
     "data": {
      "image/png": "[encoded data removed]",
      "text/plain": [
       "<Figure size 432x288 with 1 Axes>"
      ]
     },
     "metadata": {
      "needs_background": "light"
     },
     "output_type": "display_data"
    }
   ],
   "source": [
    "plt.plot(X_train, y_train)\n",
    "plt.show()"
   ]
  },
  {
   "cell_type": "code",
   "execution_count": 51,
   "metadata": {},
   "outputs": [
    {
     "data": {
      "text/plain": [
       "LinearRegression(copy_X=True, fit_intercept=True, n_jobs=None,\n",
       "         normalize=False)"
      ]
     },
     "execution_count": 51,
     "metadata": {},
     "output_type": "execute_result"
    }
   ],
   "source": [
    "from sklearn.linear_model import LinearRegression\n",
    "\n",
    "lin_reg = LinearRegression()\n",
    "lin_reg.fit(X_train, y_train)"
   ]
  },
  {
   "cell_type": "code",
   "execution_count": 55,
   "metadata": {},
   "outputs": [
    {
     "data": {
      "text/plain": [
       "array([[1.80001629]])"
      ]
     },
     "execution_count": 55,
     "metadata": {},
     "output_type": "execute_result"
    }
   ],
   "source": [
    "lin_reg.coef_"
   ]
  },
  {
   "cell_type": "code",
   "execution_count": 58,
   "metadata": {},
   "outputs": [
    {
     "data": {
      "text/plain": [
       "array([[248.71791327],\n",
       "       [ 58.71619371],\n",
       "       [256.05131297],\n",
       "       [110.04999163],\n",
       "       [ 76.71635662],\n",
       "       [272.71813048],\n",
       "       [261.38469457],\n",
       "       [ 90.04981062],\n",
       "       [ 54.71615751],\n",
       "       [308.05178359],\n",
       "       [ 12.7157774 ],\n",
       "       [138.05024504],\n",
       "       [278.05151208],\n",
       "       [ 62.71622991],\n",
       "       [255.38464027],\n",
       "       [265.38473077],\n",
       "       [340.0520732 ],\n",
       "       [ 26.7159041 ],\n",
       "       [218.05096906],\n",
       "       [280.05153018],\n",
       "       [336.71870969],\n",
       "       [336.71870969],\n",
       "       [193.38407915],\n",
       "       [247.38456787],\n",
       "       [ 60.04953911],\n",
       "       [316.71852869],\n",
       "       [341.3854186 ],\n",
       "       [150.71702634],\n",
       "       [ 74.04966582],\n",
       "       [229.38440496],\n",
       "       [326.05194649],\n",
       "       [234.05111386],\n",
       "       [300.71838388],\n",
       "       [124.71679103],\n",
       "       [ 11.382432  ],\n",
       "       [232.05109576],\n",
       "       [282.05154828],\n",
       "       [ 54.71615751],\n",
       "       [147.38366284],\n",
       "       [ 50.71612131],\n",
       "       [264.05138537],\n",
       "       [ 70.04962962],\n",
       "       [333.38534619],\n",
       "       [131.38351803],\n",
       "       [ 31.38261301],\n",
       "       [ 60.04953911],\n",
       "       [  6.7157231 ],\n",
       "       [ 16.0491409 ],\n",
       "       [285.38491178],\n",
       "       [ 24.0492133 ],\n",
       "       [ 55.38283021],\n",
       "       [130.71684533],\n",
       "       [ 94.71651952],\n",
       "       [282.71822098],\n",
       "       [138.05024504],\n",
       "       [ 44.71606701],\n",
       "       [108.71664623],\n",
       "       [ 20.7158498 ],\n",
       "       [144.71697204],\n",
       "       [ 60.71621181],\n",
       "       [336.71870969],\n",
       "       [184.71733405],\n",
       "       [223.38435066],\n",
       "       [328.71863729],\n",
       "       [ 61.38288451],\n",
       "       [ 32.71595841],\n",
       "       [308.05178359],\n",
       "       [ 38.71601271],\n",
       "       [165.38382574],\n",
       "       [269.38476697],\n",
       "       [241.38451357],\n",
       "       [236.05113197],\n",
       "       [194.05075185],\n",
       "       [200.71747886],\n",
       "       [220.71765986],\n",
       "       [211.38424206],\n",
       "       [186.71735215],\n",
       "       [ 54.71615751],\n",
       "       [311.38514709],\n",
       "       [318.71854679],\n",
       "       [112.71668243],\n",
       "       [ 63.38290262],\n",
       "       [328.05196459],\n",
       "       [123.38344563],\n",
       "       [220.71765986],\n",
       "       [ 70.04962962],\n",
       "       [130.05017263],\n",
       "       [285.38491178],\n",
       "       [217.38429636],\n",
       "       [194.71742455],\n",
       "       [262.05136727],\n",
       "       [322.05191029],\n",
       "       [251.38460407],\n",
       "       [225.38436876],\n",
       "       [296.05167498],\n",
       "       [240.05116817],\n",
       "       [ 64.04957532],\n",
       "       [ 58.04952101],\n",
       "       [299.38503848],\n",
       "       [ 17.3824863 ],\n",
       "       [176.05058895],\n",
       "       [298.71836578],\n",
       "       [ 20.0491771 ],\n",
       "       [221.38433256],\n",
       "       [230.05107766],\n",
       "       [ 45.38273971],\n",
       "       [210.05089666],\n",
       "       [159.38377144],\n",
       "       [228.71773226],\n",
       "       [ 94.71651952],\n",
       "       [101.38324653],\n",
       "       [288.71827528],\n",
       "       [231.38442306],\n",
       "       [ 25.3825587 ],\n",
       "       [318.05187409],\n",
       "       [194.71742455],\n",
       "       [172.05055275],\n",
       "       [168.05051655],\n",
       "       [ 85.38310172],\n",
       "       [ 38.04934001],\n",
       "       [153.38371714],\n",
       "       [124.05011833],\n",
       "       [221.38433256],\n",
       "       [110.71666433],\n",
       "       [161.38378954]])"
      ]
     },
     "execution_count": 58,
     "metadata": {},
     "output_type": "execute_result"
    }
   ],
   "source": [
    "prediction = lin_reg.predict(X_test)\n",
    "prediction"
   ]
  },
  {
   "cell_type": "code",
   "execution_count": 59,
   "metadata": {},
   "outputs": [
    {
     "data": {
      "text/plain": [
       "0.022197567380983628"
      ]
     },
     "execution_count": 59,
     "metadata": {},
     "output_type": "execute_result"
    }
   ],
   "source": [
    "from sklearn.metrics import mean_squared_error\n",
    "lin_mse = mean_squared_error(prediction, y_test)\n",
    "lin_rmse = np.sqrt(lin_mse)\n",
    "lin_mse"
   ]
  },
  {
   "cell_type": "code",
   "execution_count": 72,
   "metadata": {},
   "outputs": [
    {
     "data": {
      "text/plain": [
       "array([[248.71791327],\n",
       "       [ 58.71619371],\n",
       "       [256.05131297],\n",
       "       [110.04999163],\n",
       "       [ 76.71635662]])"
      ]
     },
     "execution_count": 72,
     "metadata": {},
     "output_type": "execute_result"
    }
   ],
   "source": [
    "prediction[:5]"
   ]
  },
  {
   "cell_type": "code",
   "execution_count": 76,
   "metadata": {},
   "outputs": [
    {
     "data": {
      "text/plain": [
       "array([[248.56615296],\n",
       "       [ 58.73012333],\n",
       "       [255.91114429],\n",
       "       [110.13031725],\n",
       "       [ 76.78814084]])"
      ]
     },
     "execution_count": 76,
     "metadata": {},
     "output_type": "execute_result"
    }
   ],
   "source": [
    "y_test[:5]"
   ]
  },
  {
   "cell_type": "code",
   "execution_count": 84,
   "metadata": {},
   "outputs": [
    {
     "data": {
      "image/png": "[encoded data removed]",
      "text/plain": [
       "<Figure size 432x288 with 1 Axes>"
      ]
     },
     "metadata": {
      "needs_background": "light"
     },
     "output_type": "display_data"
    }
   ],
   "source": [
    "plt.clf()\n",
    "lim = 2\n",
    "#plt.plot(X_test[:lim], y_test[:lim], color='green')\n",
    "plt.plot(X_test[:10], prediction[:10], color='orange', linestyle='--')\n",
    "plt.show()"
   ]
  },
  {
   "cell_type": "code",
   "execution_count": 90,
   "metadata": {},
   "outputs": [
    {
     "name": "stderr",
     "output_type": "stream",
     "text": [
      "/home/dmitry/anaconda3/lib/python3.7/site-packages/sklearn/ensemble/forest.py:246: FutureWarning: The default value of n_estimators will change from 10 in version 0.20 to 100 in 0.22.\n",
      "  \"10 in version 0.20 to 100 in 0.22.\", FutureWarning)\n",
      "/home/dmitry/anaconda3/lib/python3.7/site-packages/ipykernel_launcher.py:4: DataConversionWarning: A column-vector y was passed when a 1d array was expected. Please change the shape of y to (n_samples,), for example using ravel().\n",
      "  after removing the cwd from sys.path.\n"
     ]
    },
    {
     "data": {
      "text/plain": [
       "0.6383181431200559"
      ]
     },
     "execution_count": 90,
     "metadata": {},
     "output_type": "execute_result"
    }
   ],
   "source": [
    "from sklearn.ensemble import RandomForestRegressor\n",
    "\n",
    "forest_reg = RandomForestRegressor()\n",
    "forest_reg.fit(X_train, y_train)\n",
    "\n",
    "pred = forest_reg.predict(X_test)\n",
    "forest_mse = mean_squared_error(y_test, pred)\n",
    "forest_rmse = np.sqrt(lin_mse)\n",
    "forest_mse"
   ]
  },
  {
   "cell_type": "code",
   "execution_count": 96,
   "metadata": {},
   "outputs": [
    {
     "data": {
      "image/png": "[encoded data removed]",
      "text/plain": [
       "<Figure size 432x288 with 1 Axes>"
      ]
     },
     "metadata": {
      "needs_background": "light"
     },
     "output_type": "display_data"
    }
   ],
   "source": [
    "plt.clf()\n",
    "lim = 2\n",
    "plt.plot(X_test, y_test, color='green')\n",
    "plt.plot(X_test, pred, color='orange', linestyle='--')\n",
    "plt.show()"
   ]
  }
 ],
 "metadata": {
  "kernelspec": {
   "display_name": "Python 3",
   "language": "python",
   "name": "python3"
  },
  "language_info": {
   "codemirror_mode": {
    "name": "ipython",
    "version": 3
   },
   "file_extension": ".py",
   "mimetype": "text/x-python",
   "name": "python",
   "nbconvert_exporter": "python",
   "pygments_lexer": "ipython3",
   "version": "3.7.1"
  }
 },
 "nbformat": 4,
 "nbformat_minor": 2
}
